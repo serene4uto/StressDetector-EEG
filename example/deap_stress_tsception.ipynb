{
 "cells": [
  {
   "cell_type": "code",
   "execution_count": 1,
   "metadata": {},
   "outputs": [
    {
     "name": "stdout",
     "output_type": "stream",
     "text": [
      "/workspaces/Project_StressDetection/StressDetector-EEG-v2\n"
     ]
    },
    {
     "name": "stderr",
     "output_type": "stream",
     "text": [
      "/usr/local/lib/python3.10/dist-packages/IPython/core/magics/osm.py:417: UserWarning: using dhist requires you to install the `pickleshare` library.\n",
      "  self.shell.db['dhist'] = compress_dhist(dhist)[-100:]\n"
     ]
    }
   ],
   "source": [
    "%cd \"StressDetector-EEG-v2/\""
   ]
  },
  {
   "cell_type": "code",
   "execution_count": 2,
   "metadata": {},
   "outputs": [
    {
     "name": "stderr",
     "output_type": "stream",
     "text": [
      "[2024-01-29 07:27:27] INFO (torcheeg/MainThread) 🔍 | Detected cached processing results, reading cache from ../data_cache/deap.\n"
     ]
    }
   ],
   "source": [
    "from torcheeg.datasets import DEAPDataset\n",
    "from torcheeg import transforms\n",
    "import torch\n",
    "from src.utils.transforms import DeapAVToStress\n",
    "\n",
    "from torcheeg.datasets.constants.emotion_recognition.deap import \\\n",
    "    DEAP_CHANNEL_LOCATION_DICT\n",
    "\n",
    "dataset = DEAPDataset(\n",
    "    io_path=f'../data_cache/deap',\n",
    "    root_path='../DEAP/data_preprocessed_python-002/data_preprocessed_python',\n",
    "    online_transform=transforms.Compose([\n",
    "        transforms.To2d(),\n",
    "        transforms.ToTensor()\n",
    "    ]),\n",
    "    label_transform=transforms.Compose([\n",
    "        transforms.Select(['arousal','valence']),\n",
    "        # transforms.Binary(5.0),\n",
    "        # transforms.BinariesToCategory(),\n",
    "        DeapAVToStress(thresholds=[\n",
    "            [7.5, 2.5],\n",
    "            [5.0, 5.0]]),\n",
    "    ]),\n",
    "    num_worker=8)\n",
    "\n",
    "# dataset_label_names = ['LALV', 'LAHV', 'HALV', 'HAHV']"
   ]
  },
  {
   "cell_type": "code",
   "execution_count": 3,
   "metadata": {},
   "outputs": [
    {
     "data": {
      "text/plain": [
       "(tensor([[[  4.5394,   4.8771,   1.2011,  ...,  -5.3637,  -8.9537,  -7.1368],\n",
       "          [  3.1196,   3.1612,  -0.7342,  ...,  -7.4487, -10.7008,  -7.7331],\n",
       "          [  0.8641,   2.6748,   2.3525,  ...,  -7.1387,  -9.4880,  -7.2578],\n",
       "          ...,\n",
       "          [ -1.2643,  -4.4589,  -1.2664,  ...,  -2.4233,   0.3820,   2.6846],\n",
       "          [ -4.3841,  -4.2601,  -2.9862,  ...,   1.7452,   5.2247,   4.3206],\n",
       "          [ -0.1636,  -0.9272,  -1.7214,  ...,   1.6505,   5.3256,   6.6843]]]),\n",
       " 0)"
      ]
     },
     "execution_count": 3,
     "metadata": {},
     "output_type": "execute_result"
    }
   ],
   "source": [
    "dataset[1]"
   ]
  },
  {
   "cell_type": "code",
   "execution_count": 4,
   "metadata": {},
   "outputs": [],
   "source": [
    "train_val_test_split = [0.6, 0.2, 0.2]\n",
    "\n",
    "train_size = int(train_val_test_split[0] * len(dataset))\n",
    "val_size = int(train_val_test_split[1] * len(dataset))\n",
    "test_size = len(dataset) - train_size - val_size\n",
    "\n",
    "train_dataset, val_dataset, test_dataset = torch.utils.data.random_split(\n",
    "    dataset, [train_size, val_size, test_size], generator=torch.Generator().manual_seed(42))"
   ]
  },
  {
   "cell_type": "code",
   "execution_count": 5,
   "metadata": {},
   "outputs": [],
   "source": [
    "from torch.utils.data import DataLoader\n",
    "batch_size = 64\n",
    "\n",
    "train_loader = DataLoader(\n",
    "    train_dataset,\n",
    "    batch_size = batch_size,\n",
    "    shuffle = True,\n",
    "    num_workers = 2,\n",
    "    pin_memory = True,\n",
    ")\n",
    "\n",
    "val_loader = DataLoader(\n",
    "    val_dataset,\n",
    "    batch_size=batch_size,\n",
    "    shuffle = False,\n",
    "    num_workers = 2,\n",
    "    pin_memory = True,\n",
    ")\n",
    "\n",
    "test_loader = DataLoader(\n",
    "    test_dataset,\n",
    "    batch_size=batch_size,\n",
    "    shuffle = False,\n",
    "    num_workers = 2,\n",
    "    pin_memory = True,\n",
    ")"
   ]
  },
  {
   "cell_type": "code",
   "execution_count": 6,
   "metadata": {},
   "outputs": [
    {
     "name": "stdout",
     "output_type": "stream",
     "text": [
      "[Errno 2] No such file or directory: 'StressDetector-EEG-v2/'\n",
      "/workspaces/Project_StressDetection/StressDetector-EEG-v2\n"
     ]
    },
    {
     "name": "stderr",
     "output_type": "stream",
     "text": [
      "/usr/local/lib/python3.10/dist-packages/IPython/core/magics/osm.py:393: UserWarning: using bookmarks requires you to install the `pickleshare` library.\n",
      "  bkms = self.shell.db.get('bookmarks', {})\n"
     ]
    }
   ],
   "source": [
    "%cd \"StressDetector-EEG-v2/\""
   ]
  },
  {
   "cell_type": "code",
   "execution_count": 7,
   "metadata": {},
   "outputs": [
    {
     "name": "stdout",
     "output_type": "stream",
     "text": [
      "01/29 07:27:29 - mmengine - \u001b[4m\u001b[97mINFO\u001b[0m - \n",
      "------------------------------------------------------------\n",
      "System environment:\n",
      "    sys.platform: linux\n",
      "    Python: 3.10.6 (main, May 29 2023, 11:10:38) [GCC 11.3.0]\n",
      "    CUDA available: True\n",
      "    numpy_random_seed: 1629341685\n",
      "    GPU 0: NVIDIA GeForce RTX 3060 Ti\n",
      "    CUDA_HOME: /usr/local/cuda\n",
      "    NVCC: Cuda compilation tools, release 12.1, V12.1.105\n",
      "    GCC: x86_64-linux-gnu-gcc (Ubuntu 11.3.0-1ubuntu1~22.04.1) 11.3.0\n",
      "    PyTorch: 2.1.2+cu121\n",
      "    PyTorch compiling details: PyTorch built with:\n",
      "  - GCC 9.3\n",
      "  - C++ Version: 201703\n",
      "  - Intel(R) oneAPI Math Kernel Library Version 2022.2-Product Build 20220804 for Intel(R) 64 architecture applications\n",
      "  - Intel(R) MKL-DNN v3.1.1 (Git Hash 64f6bcbcbab628e96f33a62c3e975f8535a7bde4)\n",
      "  - OpenMP 201511 (a.k.a. OpenMP 4.5)\n",
      "  - LAPACK is enabled (usually provided by MKL)\n",
      "  - NNPACK is enabled\n",
      "  - CPU capability usage: AVX2\n",
      "  - CUDA Runtime 12.1\n",
      "  - NVCC architecture flags: -gencode;arch=compute_50,code=sm_50;-gencode;arch=compute_60,code=sm_60;-gencode;arch=compute_70,code=sm_70;-gencode;arch=compute_75,code=sm_75;-gencode;arch=compute_80,code=sm_80;-gencode;arch=compute_86,code=sm_86;-gencode;arch=compute_90,code=sm_90\n",
      "  - CuDNN 8.9.2\n",
      "  - Magma 2.6.1\n",
      "  - Build settings: BLAS_INFO=mkl, BUILD_TYPE=Release, CUDA_VERSION=12.1, CUDNN_VERSION=8.9.2, CXX_COMPILER=/opt/rh/devtoolset-9/root/usr/bin/c++, CXX_FLAGS= -D_GLIBCXX_USE_CXX11_ABI=0 -fabi-version=11 -fvisibility-inlines-hidden -DUSE_PTHREADPOOL -DNDEBUG -DUSE_KINETO -DLIBKINETO_NOROCTRACER -DUSE_FBGEMM -DUSE_QNNPACK -DUSE_PYTORCH_QNNPACK -DUSE_XNNPACK -DSYMBOLICATE_MOBILE_DEBUG_HANDLE -O2 -fPIC -Wall -Wextra -Werror=return-type -Werror=non-virtual-dtor -Werror=bool-operation -Wnarrowing -Wno-missing-field-initializers -Wno-type-limits -Wno-array-bounds -Wno-unknown-pragmas -Wno-unused-parameter -Wno-unused-function -Wno-unused-result -Wno-strict-overflow -Wno-strict-aliasing -Wno-stringop-overflow -Wno-psabi -Wno-error=pedantic -Wno-error=old-style-cast -Wno-invalid-partial-specialization -Wno-unused-private-field -Wno-aligned-allocation-unavailable -Wno-missing-braces -fdiagnostics-color=always -faligned-new -Wno-unused-but-set-variable -Wno-maybe-uninitialized -fno-math-errno -fno-trapping-math -Werror=format -Werror=cast-function-type -Wno-stringop-overflow, LAPACK_INFO=mkl, PERF_WITH_AVX=1, PERF_WITH_AVX2=1, PERF_WITH_AVX512=1, TORCH_DISABLE_GPU_ASSERTS=ON, TORCH_VERSION=2.1.2, USE_CUDA=ON, USE_CUDNN=ON, USE_EXCEPTION_PTR=1, USE_GFLAGS=OFF, USE_GLOG=OFF, USE_MKL=ON, USE_MKLDNN=ON, USE_MPI=OFF, USE_NCCL=1, USE_NNPACK=ON, USE_OPENMP=ON, USE_ROCM=OFF, \n",
      "\n",
      "    TorchVision: 0.16.2+cu121\n",
      "    OpenCV: 4.8.0\n",
      "    MMEngine: 0.10.2\n",
      "\n",
      "Runtime environment:\n",
      "    dist_cfg: {'backend': 'nccl'}\n",
      "    seed: 1629341685\n",
      "    Distributed launcher: none\n",
      "    Distributed training: False\n",
      "    GPU number: 1\n",
      "------------------------------------------------------------\n",
      "\n",
      "01/29 07:27:29 - mmengine - \u001b[4m\u001b[97mINFO\u001b[0m - Distributed training is not used, all SyncBatchNorm (SyncBN) layers in the model will be automatically reverted to BatchNormXd layers if they are used.\n",
      "01/29 07:27:29 - mmengine - \u001b[4m\u001b[97mINFO\u001b[0m - Hooks will be executed in the following order:\n",
      "before_run:\n",
      "(VERY_HIGH   ) RuntimeInfoHook                    \n",
      "(BELOW_NORMAL) LoggerHook                         \n",
      " -------------------- \n",
      "before_train:\n",
      "(VERY_HIGH   ) RuntimeInfoHook                    \n",
      "(NORMAL      ) IterTimerHook                      \n",
      "(VERY_LOW    ) CheckpointHook                     \n",
      " -------------------- \n",
      "before_train_epoch:\n",
      "(VERY_HIGH   ) RuntimeInfoHook                    \n",
      "(NORMAL      ) IterTimerHook                      \n",
      "(NORMAL      ) DistSamplerSeedHook                \n",
      " -------------------- \n",
      "before_train_iter:\n",
      "(VERY_HIGH   ) RuntimeInfoHook                    \n",
      "(NORMAL      ) IterTimerHook                      \n",
      " -------------------- \n",
      "after_train_iter:\n",
      "(VERY_HIGH   ) RuntimeInfoHook                    \n",
      "(NORMAL      ) IterTimerHook                      \n",
      "(BELOW_NORMAL) LoggerHook                         \n",
      "(LOW         ) ParamSchedulerHook                 \n",
      "(VERY_LOW    ) CheckpointHook                     \n",
      " -------------------- \n",
      "after_train_epoch:\n",
      "(NORMAL      ) IterTimerHook                      \n",
      "(LOW         ) ParamSchedulerHook                 \n",
      "(VERY_LOW    ) CheckpointHook                     \n",
      " -------------------- \n",
      "before_val:\n",
      "(VERY_HIGH   ) RuntimeInfoHook                    \n",
      " -------------------- \n",
      "before_val_epoch:\n",
      "(NORMAL      ) IterTimerHook                      \n",
      " -------------------- \n",
      "before_val_iter:\n",
      "(NORMAL      ) IterTimerHook                      \n",
      " -------------------- \n",
      "after_val_iter:\n",
      "(NORMAL      ) IterTimerHook                      \n",
      "(BELOW_NORMAL) LoggerHook                         \n",
      " -------------------- \n",
      "after_val_epoch:\n",
      "(VERY_HIGH   ) RuntimeInfoHook                    \n",
      "(NORMAL      ) IterTimerHook                      \n",
      "(BELOW_NORMAL) LoggerHook                         \n",
      "(LOW         ) ParamSchedulerHook                 \n",
      "(VERY_LOW    ) CheckpointHook                     \n",
      " -------------------- \n",
      "after_val:\n",
      "(VERY_HIGH   ) RuntimeInfoHook                    \n",
      " -------------------- \n",
      "after_train:\n",
      "(VERY_HIGH   ) RuntimeInfoHook                    \n",
      "(VERY_LOW    ) CheckpointHook                     \n",
      " -------------------- \n",
      "before_test:\n",
      "(VERY_HIGH   ) RuntimeInfoHook                    \n",
      " -------------------- \n",
      "before_test_epoch:\n",
      "(NORMAL      ) IterTimerHook                      \n",
      " -------------------- \n",
      "before_test_iter:\n",
      "(NORMAL      ) IterTimerHook                      \n",
      " -------------------- \n",
      "after_test_iter:\n",
      "(NORMAL      ) IterTimerHook                      \n",
      "(BELOW_NORMAL) LoggerHook                         \n",
      " -------------------- \n",
      "after_test_epoch:\n",
      "(VERY_HIGH   ) RuntimeInfoHook                    \n",
      "(NORMAL      ) IterTimerHook                      \n",
      "(BELOW_NORMAL) LoggerHook                         \n",
      " -------------------- \n",
      "after_test:\n",
      "(VERY_HIGH   ) RuntimeInfoHook                    \n",
      " -------------------- \n",
      "after_run:\n",
      "(BELOW_NORMAL) LoggerHook                         \n",
      " -------------------- \n"
     ]
    }
   ],
   "source": [
    "from torch.optim import SGD, Adam\n",
    "from mmengine.runner import Runner\n",
    "from src.models.torcheeg_mmwraper import MMTSCeption\n",
    "from src.utils.metrics import AccuracyWithLoss, Accuracy, ConfusionMatrix\n",
    "\n",
    "\n",
    "runner = Runner(\n",
    "    # the model used for training and validation.\n",
    "    # Needs to meet specific interface requirements\n",
    "\n",
    "    model=MMTSCeption(\n",
    "                num_classes=3,\n",
    "                num_electrodes=32,\n",
    "                sampling_rate=128,\n",
    "                num_T=15,\n",
    "                num_S=15,\n",
    "                hid_channels=32,\n",
    "                dropout=0.5).float(),\n",
    "\n",
    "    # working directory which saves training logs and weight files\n",
    "    work_dir='./.exp/new_deap_stress/tsception',\n",
    "    \n",
    "    # train dataloader needs to meet the PyTorch data loader protocol\n",
    "    train_dataloader=train_loader,\n",
    "    # optimize wrapper for optimization with additional features like\n",
    "    # AMP, gradtient accumulation, etc\n",
    "    optim_wrapper=dict(optimizer=dict(type=Adam, \n",
    "                                      lr=0.001,\n",
    "                                      betas=(0.9, 0.999),\n",
    "                                      eps=1e-08)),\n",
    "    # trainging coinfs for specifying training epoches, verification intervals, etc\n",
    "    train_cfg=dict(by_epoch=True, \n",
    "                   max_epochs=200, \n",
    "                   val_interval=1),\n",
    "    \n",
    "    \n",
    "    # validation dataloader also needs to meet the PyTorch data loader protocol\n",
    "    val_dataloader=val_loader,\n",
    "    # validation configs for specifying additional parameters required for validation\n",
    "    val_cfg=dict(),\n",
    "    # validation evaluator. The default one is used here\n",
    "    val_evaluator=dict(type=AccuracyWithLoss),\n",
    "\n",
    "    # test dataloader also needs to meet the PyTorch data loader protocol\n",
    "    test_dataloader=test_loader,\n",
    "    # test configs for specifying additional parameters required for testing\n",
    "    test_cfg=dict(),\n",
    "    # test evaluator. The default one is used here\n",
    "    test_evaluator=[dict(type=Accuracy), dict(type=ConfusionMatrix, num_classes=3)],\n",
    "\n",
    "    visualizer=dict(type='Visualizer', vis_backends=[dict(type='TensorboardVisBackend')]),\n",
    "    \n",
    "    resume=True,\n",
    ")"
   ]
  },
  {
   "cell_type": "code",
   "execution_count": 8,
   "metadata": {},
   "outputs": [
    {
     "name": "stdout",
     "output_type": "stream",
     "text": [
      "01/29 07:27:29 - mmengine - \u001b[5m\u001b[4m\u001b[33mWARNING\u001b[0m - Dataset Subset has no metainfo. ``dataset_meta`` in visualizer will be None.\n",
      "01/29 07:27:29 - mmengine - \u001b[5m\u001b[4m\u001b[33mWARNING\u001b[0m - The prefix is not set in metric class AccuracyWithLoss.\n",
      "01/29 07:27:29 - mmengine - \u001b[5m\u001b[4m\u001b[33mWARNING\u001b[0m - Dataset Subset has no metainfo. ``dataset_meta`` in evaluator, metric and visualizer will be None.\n",
      "01/29 07:27:29 - mmengine - \u001b[4m\u001b[97mINFO\u001b[0m - Auto resumed from the latest checkpoint /workspaces/Project_StressDetection/StressDetector-EEG-v2/.exp/new_deap_stress/tsception/epoch_200.pth.\n",
      "Loads checkpoint by local backend from path: /workspaces/Project_StressDetection/StressDetector-EEG-v2/.exp/new_deap_stress/tsception/epoch_200.pth\n",
      "01/29 07:27:29 - mmengine - \u001b[4m\u001b[97mINFO\u001b[0m - Load checkpoint from /workspaces/Project_StressDetection/StressDetector-EEG-v2/.exp/new_deap_stress/tsception/epoch_200.pth\n",
      "01/29 07:27:29 - mmengine - \u001b[5m\u001b[4m\u001b[33mWARNING\u001b[0m - `resume_param_scheduler` is True but `self.param_schedulers` is None, so skip resuming parameter schedulers\n",
      "01/29 07:27:29 - mmengine - \u001b[4m\u001b[97mINFO\u001b[0m - resumed epoch: 200, iter: 144000\n",
      "01/29 07:27:29 - mmengine - \u001b[5m\u001b[4m\u001b[33mWARNING\u001b[0m - \"FileClient\" will be deprecated in future. Please use io functions in https://mmengine.readthedocs.io/en/latest/api/fileio.html#file-io\n",
      "01/29 07:27:29 - mmengine - \u001b[5m\u001b[4m\u001b[33mWARNING\u001b[0m - \"HardDiskBackend\" is the alias of \"LocalBackend\" and the former will be deprecated in future.\n",
      "01/29 07:27:29 - mmengine - \u001b[4m\u001b[97mINFO\u001b[0m - Checkpoints will be saved to /workspaces/Project_StressDetection/StressDetector-EEG-v2/.exp/new_deap_stress/tsception.\n"
     ]
    },
    {
     "data": {
      "text/plain": [
       "MMTSCeption(\n",
       "  (data_preprocessor): BaseDataPreprocessor()\n",
       "  (tsception): TSCeption(\n",
       "    (Tception1): Sequential(\n",
       "      (0): Conv2d(1, 15, kernel_size=(1, 64), stride=(1, 1))\n",
       "      (1): LeakyReLU(negative_slope=0.01)\n",
       "      (2): AvgPool2d(kernel_size=(1, 8), stride=(1, 8), padding=0)\n",
       "    )\n",
       "    (Tception2): Sequential(\n",
       "      (0): Conv2d(1, 15, kernel_size=(1, 32), stride=(1, 1))\n",
       "      (1): LeakyReLU(negative_slope=0.01)\n",
       "      (2): AvgPool2d(kernel_size=(1, 8), stride=(1, 8), padding=0)\n",
       "    )\n",
       "    (Tception3): Sequential(\n",
       "      (0): Conv2d(1, 15, kernel_size=(1, 16), stride=(1, 1))\n",
       "      (1): LeakyReLU(negative_slope=0.01)\n",
       "      (2): AvgPool2d(kernel_size=(1, 8), stride=(1, 8), padding=0)\n",
       "    )\n",
       "    (Sception1): Sequential(\n",
       "      (0): Conv2d(15, 15, kernel_size=(32, 1), stride=(1, 1))\n",
       "      (1): LeakyReLU(negative_slope=0.01)\n",
       "      (2): AvgPool2d(kernel_size=(1, 2), stride=(1, 2), padding=0)\n",
       "    )\n",
       "    (Sception2): Sequential(\n",
       "      (0): Conv2d(15, 15, kernel_size=(16, 1), stride=(16, 1))\n",
       "      (1): LeakyReLU(negative_slope=0.01)\n",
       "      (2): AvgPool2d(kernel_size=(1, 2), stride=(1, 2), padding=0)\n",
       "    )\n",
       "    (fusion_layer): Sequential(\n",
       "      (0): Conv2d(15, 15, kernel_size=(3, 1), stride=(1, 1))\n",
       "      (1): LeakyReLU(negative_slope=0.01)\n",
       "      (2): AvgPool2d(kernel_size=(1, 4), stride=(1, 4), padding=0)\n",
       "    )\n",
       "    (BN_t): BatchNorm2d(15, eps=1e-05, momentum=0.1, affine=True, track_running_stats=True)\n",
       "    (BN_s): BatchNorm2d(15, eps=1e-05, momentum=0.1, affine=True, track_running_stats=True)\n",
       "    (BN_fusion): BatchNorm2d(15, eps=1e-05, momentum=0.1, affine=True, track_running_stats=True)\n",
       "    (fc): Sequential(\n",
       "      (0): Linear(in_features=15, out_features=32, bias=True)\n",
       "      (1): ReLU()\n",
       "      (2): Dropout(p=0.5, inplace=False)\n",
       "      (3): Linear(in_features=32, out_features=3, bias=True)\n",
       "    )\n",
       "  )\n",
       ")"
      ]
     },
     "execution_count": 8,
     "metadata": {},
     "output_type": "execute_result"
    }
   ],
   "source": [
    "runner.train()"
   ]
  },
  {
   "cell_type": "code",
   "execution_count": 9,
   "metadata": {},
   "outputs": [
    {
     "name": "stderr",
     "output_type": "stream",
     "text": [
      "UsageError: Line magic function `%tensorboard` not found.\n"
     ]
    }
   ],
   "source": [
    "%tensorboard --logdir logs/fit\n"
   ]
  },
  {
   "cell_type": "code",
   "execution_count": 9,
   "metadata": {},
   "outputs": [
    {
     "name": "stdout",
     "output_type": "stream",
     "text": [
      "01/29 07:27:36 - mmengine - \u001b[5m\u001b[4m\u001b[33mWARNING\u001b[0m - The prefix is not set in metric class Accuracy.\n",
      "01/29 07:27:36 - mmengine - \u001b[4m\u001b[97mINFO\u001b[0m - Epoch(test) [ 10/240]    eta: 0:00:09  time: 0.0395  data_time: 0.0089  memory: 40  \n",
      "01/29 07:27:36 - mmengine - \u001b[4m\u001b[97mINFO\u001b[0m - Epoch(test) [ 20/240]    eta: 0:00:05  time: 0.0109  data_time: 0.0008  memory: 40  \n",
      "01/29 07:27:37 - mmengine - \u001b[4m\u001b[97mINFO\u001b[0m - Epoch(test) [ 30/240]    eta: 0:00:04  time: 0.0086  data_time: 0.0004  memory: 40  \n",
      "01/29 07:27:37 - mmengine - \u001b[4m\u001b[97mINFO\u001b[0m - Epoch(test) [ 40/240]    eta: 0:00:03  time: 0.0062  data_time: 0.0041  memory: 40  \n",
      "01/29 07:27:37 - mmengine - \u001b[4m\u001b[97mINFO\u001b[0m - Epoch(test) [ 50/240]    eta: 0:00:02  time: 0.0061  data_time: 0.0043  memory: 40  \n",
      "01/29 07:27:37 - mmengine - \u001b[4m\u001b[97mINFO\u001b[0m - Epoch(test) [ 60/240]    eta: 0:00:02  time: 0.0062  data_time: 0.0038  memory: 40  \n",
      "01/29 07:27:37 - mmengine - \u001b[4m\u001b[97mINFO\u001b[0m - Epoch(test) [ 70/240]    eta: 0:00:02  time: 0.0067  data_time: 0.0045  memory: 40  \n",
      "01/29 07:27:37 - mmengine - \u001b[4m\u001b[97mINFO\u001b[0m - Epoch(test) [ 80/240]    eta: 0:00:01  time: 0.0062  data_time: 0.0041  memory: 40  \n",
      "01/29 07:27:37 - mmengine - \u001b[4m\u001b[97mINFO\u001b[0m - Epoch(test) [ 90/240]    eta: 0:00:01  time: 0.0058  data_time: 0.0033  memory: 40  \n",
      "01/29 07:27:37 - mmengine - \u001b[4m\u001b[97mINFO\u001b[0m - Epoch(test) [100/240]    eta: 0:00:01  time: 0.0055  data_time: 0.0034  memory: 40  \n",
      "01/29 07:27:37 - mmengine - \u001b[4m\u001b[97mINFO\u001b[0m - Epoch(test) [110/240]    eta: 0:00:01  time: 0.0061  data_time: 0.0041  memory: 40  \n",
      "01/29 07:27:37 - mmengine - \u001b[4m\u001b[97mINFO\u001b[0m - Epoch(test) [120/240]    eta: 0:00:01  time: 0.0056  data_time: 0.0037  memory: 40  \n",
      "01/29 07:27:37 - mmengine - \u001b[4m\u001b[97mINFO\u001b[0m - Epoch(test) [130/240]    eta: 0:00:01  time: 0.0062  data_time: 0.0041  memory: 40  \n",
      "01/29 07:27:37 - mmengine - \u001b[4m\u001b[97mINFO\u001b[0m - Epoch(test) [140/240]    eta: 0:00:00  time: 0.0056  data_time: 0.0033  memory: 40  \n",
      "01/29 07:27:37 - mmengine - \u001b[4m\u001b[97mINFO\u001b[0m - Epoch(test) [150/240]    eta: 0:00:00  time: 0.0057  data_time: 0.0035  memory: 40  \n",
      "01/29 07:27:37 - mmengine - \u001b[4m\u001b[97mINFO\u001b[0m - Epoch(test) [160/240]    eta: 0:00:00  time: 0.0056  data_time: 0.0034  memory: 40  \n",
      "01/29 07:27:37 - mmengine - \u001b[4m\u001b[97mINFO\u001b[0m - Epoch(test) [170/240]    eta: 0:00:00  time: 0.0052  data_time: 0.0033  memory: 40  \n",
      "01/29 07:27:37 - mmengine - \u001b[4m\u001b[97mINFO\u001b[0m - Epoch(test) [180/240]    eta: 0:00:00  time: 0.0059  data_time: 0.0036  memory: 40  \n",
      "01/29 07:27:38 - mmengine - \u001b[4m\u001b[97mINFO\u001b[0m - Epoch(test) [190/240]    eta: 0:00:00  time: 0.0055  data_time: 0.0035  memory: 40  \n",
      "01/29 07:27:38 - mmengine - \u001b[4m\u001b[97mINFO\u001b[0m - Epoch(test) [200/240]    eta: 0:00:00  time: 0.0054  data_time: 0.0034  memory: 40  \n",
      "01/29 07:27:38 - mmengine - \u001b[4m\u001b[97mINFO\u001b[0m - Epoch(test) [210/240]    eta: 0:00:00  time: 0.0053  data_time: 0.0033  memory: 40  \n",
      "01/29 07:27:38 - mmengine - \u001b[4m\u001b[97mINFO\u001b[0m - Epoch(test) [220/240]    eta: 0:00:00  time: 0.0054  data_time: 0.0034  memory: 40  \n",
      "01/29 07:27:38 - mmengine - \u001b[4m\u001b[97mINFO\u001b[0m - Epoch(test) [230/240]    eta: 0:00:00  time: 0.0055  data_time: 0.0033  memory: 40  \n",
      "01/29 07:27:38 - mmengine - \u001b[4m\u001b[97mINFO\u001b[0m - Epoch(test) [240/240]    eta: 0:00:00  time: 0.0054  data_time: 0.0035  memory: 40  \n",
      "01/29 07:27:38 - mmengine - \u001b[4m\u001b[97mINFO\u001b[0m - Epoch(test) [240/240]    accuracy: 98.9323  confusion_matrix/result: \n",
      "tensor([[11774,    62,    14],\n",
      "        [   80,  3005,     0],\n",
      "        [    6,     2,   417]])\n",
      "  data_time: 0.0036  time: 0.0075\n"
     ]
    }
   ],
   "source": [
    "# Run trained model on test set\n",
    "test_results = runner.test()"
   ]
  },
  {
   "cell_type": "code",
   "execution_count": 10,
   "metadata": {},
   "outputs": [
    {
     "data": {
      "text/plain": [
       "{'accuracy': tensor(98.9323),\n",
       " 'confusion_matrix/result': tensor([[11774,    62,    14],\n",
       "         [   80,  3005,     0],\n",
       "         [    6,     2,   417]])}"
      ]
     },
     "execution_count": 10,
     "metadata": {},
     "output_type": "execute_result"
    }
   ],
   "source": [
    "test_results"
   ]
  },
  {
   "cell_type": "code",
   "execution_count": 11,
   "metadata": {},
   "outputs": [
    {
     "data": {
      "image/png": "[encoded data removed]",
      "text/plain": [
       "<Figure size 1000x1000 with 2 Axes>"
      ]
     },
     "metadata": {},
     "output_type": "display_data"
    },
    {
     "data": {
      "image/png": "[encoded data removed]",
      "text/plain": [
       "<Figure size 1000x1000 with 2 Axes>"
      ]
     },
     "execution_count": 11,
     "metadata": {},
     "output_type": "execute_result"
    }
   ],
   "source": [
    "ConfusionMatrix().plot(test_results['confusion_matrix/result'], classes=['No Stress', 'Slight Stress', 'High Stress'], include_values=True, normalize=True)"
   ]
  }
 ],
 "metadata": {
  "kernelspec": {
   "display_name": "Python 3",
   "language": "python",
   "name": "python3"
  },
  "language_info": {
   "codemirror_mode": {
    "name": "ipython",
    "version": 3
   },
   "file_extension": ".py",
   "mimetype": "text/x-python",
   "name": "python",
   "nbconvert_exporter": "python",
   "pygments_lexer": "ipython3",
   "version": "3.10.6"
  }
 },
 "nbformat": 4,
 "nbformat_minor": 2
}
