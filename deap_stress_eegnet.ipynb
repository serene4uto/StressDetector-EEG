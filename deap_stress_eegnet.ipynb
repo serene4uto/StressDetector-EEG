{
 "cells": [
  {
   "cell_type": "code",
   "execution_count": null,
   "metadata": {},
   "outputs": [],
   "source": [
    "%pwd"
   ]
  },
  {
   "cell_type": "code",
   "execution_count": null,
   "metadata": {},
   "outputs": [],
   "source": [
    "from torcheeg.datasets import DEAPDataset\n",
    "from torcheeg import transforms\n",
    "import torch\n",
    "from src.utils.transforms import DeapAVToStress\n",
    "\n",
    "from torcheeg.datasets.constants.emotion_recognition.deap import \\\n",
    "    DEAP_CHANNEL_LOCATION_DICT\n",
    "\n",
    "dataset = DEAPDataset(\n",
    "    io_path=f'.data_cache/deap',\n",
    "    root_path='.data/DEAP/data_preprocessed_python-002/data_preprocessed_python',\n",
    "    online_transform=transforms.Compose([\n",
    "        transforms.To2d(),\n",
    "        transforms.ToTensor()\n",
    "    ]),\n",
    "    label_transform=transforms.Compose([\n",
    "        transforms.Select(['arousal','valence']),\n",
    "        # transforms.Binary(5.0),\n",
    "        # transforms.BinariesToCategory(),\n",
    "        DeapAVToStress(thresholds=[\n",
    "            [7.5, 2.5],\n",
    "            [5.0, 5.0]]),\n",
    "    ]),\n",
    "    num_worker=8)"
   ]
  },
  {
   "cell_type": "code",
   "execution_count": null,
   "metadata": {},
   "outputs": [],
   "source": [
    "train_val_test_split = [0.6, 0.2, 0.2]\n",
    "\n",
    "train_size = int(train_val_test_split[0] * len(dataset))\n",
    "val_size = int(train_val_test_split[1] * len(dataset))\n",
    "test_size = len(dataset) - train_size - val_size\n",
    "\n",
    "train_dataset, val_dataset, test_dataset = torch.utils.data.random_split(\n",
    "    dataset, [train_size, val_size, test_size], generator=torch.Generator().manual_seed(42))"
   ]
  },
  {
   "cell_type": "code",
   "execution_count": null,
   "metadata": {},
   "outputs": [],
   "source": [
    "from torch.utils.data import DataLoader\n",
    "batch_size = 64\n",
    "\n",
    "train_loader = DataLoader(\n",
    "    train_dataset,\n",
    "    batch_size = batch_size,\n",
    "    shuffle = True,\n",
    "    num_workers = 2,\n",
    "    pin_memory = True,\n",
    ")\n",
    "\n",
    "val_loader = DataLoader(\n",
    "    val_dataset,\n",
    "    batch_size=batch_size,\n",
    "    shuffle = False,\n",
    "    num_workers = 2,\n",
    "    pin_memory = True,\n",
    ")\n",
    "\n",
    "test_loader = DataLoader(\n",
    "    test_dataset,\n",
    "    batch_size=batch_size,\n",
    "    shuffle = False,\n",
    "    num_workers = 2,\n",
    "    pin_memory = True,\n",
    ")"
   ]
  },
  {
   "cell_type": "code",
   "execution_count": null,
   "metadata": {},
   "outputs": [],
   "source": [
    "from torch.optim import SGD, Adam\n",
    "from mmengine.runner import Runner\n",
    "from src.models.torcheeg_mmwraper import MMEEGNet\n",
    "from src.utils.metrics import AccuracyWithLoss, Accuracy, ConfusionMatrix\n",
    "\n",
    "\n",
    "runner = Runner(\n",
    "    # the model used for training and validation.\n",
    "    # Needs to meet specific interface requirements\n",
    "\n",
    "    model=MMEEGNet(chunk_size=128,\n",
    "                num_electrodes=32,\n",
    "                dropout=0.5,\n",
    "                kernel_1=64,\n",
    "                kernel_2=16,\n",
    "                F1=8,\n",
    "                F2=16,\n",
    "                D=2,\n",
    "                num_classes=3).float(),\n",
    "\n",
    "    # working directory which saves training logs and weight files\n",
    "    work_dir='./.exp/new_deap_stress/eegnet',\n",
    "    \n",
    "    # train dataloader needs to meet the PyTorch data loader protocol\n",
    "    train_dataloader=train_loader,\n",
    "    # optimize wrapper for optimization with additional features like\n",
    "    # AMP, gradtient accumulation, etc\n",
    "    optim_wrapper=dict(optimizer=dict(type=Adam, \n",
    "                                      lr=0.001,\n",
    "                                      betas=(0.9, 0.999),\n",
    "                                      eps=1e-08)),\n",
    "    # trainging coinfs for specifying training epoches, verification intervals, etc\n",
    "    train_cfg=dict(by_epoch=True, \n",
    "                   max_epochs=200, \n",
    "                   val_interval=1),\n",
    "    \n",
    "    \n",
    "    # validation dataloader also needs to meet the PyTorch data loader protocol\n",
    "    val_dataloader=val_loader,\n",
    "    # validation configs for specifying additional parameters required for validation\n",
    "    val_cfg=dict(),\n",
    "    # validation evaluator. The default one is used here\n",
    "    val_evaluator=dict(type=AccuracyWithLoss),\n",
    "\n",
    "    # test dataloader also needs to meet the PyTorch data loader protocol\n",
    "    test_dataloader=test_loader,\n",
    "    # test configs for specifying additional parameters required for testing\n",
    "    test_cfg=dict(),\n",
    "    # test evaluator. The default one is used here\n",
    "    test_evaluator=[dict(type=Accuracy), dict(type=ConfusionMatrix, num_classes=3)],\n",
    "\n",
    "    visualizer=dict(type='Visualizer', vis_backends=[dict(type='TensorboardVisBackend')]),\n",
    "    \n",
    "    resume=True,\n",
    ")"
   ]
  },
  {
   "cell_type": "code",
   "execution_count": null,
   "metadata": {},
   "outputs": [],
   "source": [
    "runner.train()"
   ]
  },
  {
   "cell_type": "code",
   "execution_count": null,
   "metadata": {},
   "outputs": [],
   "source": [
    "# Run trained model on test set\n",
    "test_results = runner.test()"
   ]
  },
  {
   "cell_type": "code",
   "execution_count": null,
   "metadata": {},
   "outputs": [],
   "source": [
    "test_results"
   ]
  },
  {
   "cell_type": "code",
   "execution_count": null,
   "metadata": {},
   "outputs": [],
   "source": [
    "ConfusionMatrix().plot(test_results['confusion_matrix/result'], classes=['No Stress', 'Slight Stress', 'High Stress'], include_values=True, normalize=True)"
   ]
  }
 ],
 "metadata": {
  "kernelspec": {
   "display_name": "venv",
   "language": "python",
   "name": "python3"
  },
  "language_info": {
   "codemirror_mode": {
    "name": "ipython",
    "version": 3
   },
   "file_extension": ".py",
   "mimetype": "text/x-python",
   "name": "python",
   "nbconvert_exporter": "python",
   "pygments_lexer": "ipython3",
   "version": "3.10.11"
  }
 },
 "nbformat": 4,
 "nbformat_minor": 2
}
